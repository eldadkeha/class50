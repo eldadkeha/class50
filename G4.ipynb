{
 "cells": [
  {
   "cell_type": "code",
   "execution_count": 6,
   "id": "fc7d0ec6-06d4-42d1-9f9f-9cc6edf7818f",
   "metadata": {},
   "outputs": [
    {
     "data": {
      "application/vnd.jupyter.widget-view+json": {
       "model_id": "0fd578690b9548c7bd819270c0b8cd80",
       "version_major": 2,
       "version_minor": 0
      },
      "text/plain": [
       "interactive(children=(FloatSlider(value=70.0, description='Mean Group 1', layout=Layout(width='600px'), min=1.…"
      ]
     },
     "metadata": {},
     "output_type": "display_data"
    }
   ],
   "source": [
    "# nbi:hide_in \n",
    "import pandas as pd\n",
    "import seaborn as sns\n",
    "import numpy as np\n",
    "import matplotlib.pyplot as plt\n",
    "from ipywidgets import interact, interactive, fixed, interact_manual, Layout, interactive_output, HBox\n",
    "import ipywidgets as widgets\n",
    "import random\n",
    "from random import choices\n",
    "from scipy import stats\n",
    "from IPython.display import HTML\n",
    "from scipy.stats import norm\n",
    "import scipy.stats\n",
    "import math\n",
    "import statistics\n",
    "\n",
    "sns.set(font=\"serif\", style = \"white\")\n",
    "\n",
    "def SamplingDist(meanA = 10, meanB = 10, sampsize = 12, STD = 1):\n",
    "    np.random.seed(5)\n",
    "    F =  np.zeros(10000)\n",
    "    pval = np.zeros(10000)\n",
    "    SSB = np.zeros(10000)\n",
    "    SSW = np.zeros(10000)\n",
    "    dist1 = np.random.normal(meanA, STD, 10000)\n",
    "    dist2 = np.random.normal(meanB, STD, 10000)\n",
    "    dist3 = np.random.normal(meanB, STD, 10000)\n",
    "    dist4 = np.random.normal(meanB, STD, 10000)\n",
    "    \n",
    "    for i in range(10000):\n",
    "        rsa = random.choices(dist1, k=sampsize)\n",
    "        rsb = random.choices(dist2, k=sampsize)\n",
    "        rsc = random.choices(dist3, k=sampsize)\n",
    "        rsd = random.choices(dist4, k=sampsize)\n",
    "        \n",
    "        grandmean = (np.mean(rsa) + np.mean(rsb) + np.mean(rsc) + np.mean(rsd)) /4\n",
    "        ssb = (sampsize*(np.mean(rsa)-grandmean)**2) + (sampsize*(np.mean(rsb)-grandmean)**2) + (sampsize*(np.mean(rsc)-grandmean)**2) + (sampsize*(np.mean(rsd)-grandmean)**2)\n",
    "        ssw = np.sum((rsa - np.mean(rsa))**2) + np.sum((rsb - np.mean(rsb))**2) + np.sum((rsc - np.mean(rsc))**2) + np.sum((rsd - np.mean(rsd))**2)\n",
    "        SSB [i] = ssb\n",
    "        SSW [i] = ssw\n",
    "        F[i] = ((SSB [i])/2) / ((SSW [i])/(sampsize*3-3))\n",
    "    \n",
    "    fig,(ax1,ax2,ax3)=plt.subplots(nrows=1, ncols=3,figsize=(15,7))\n",
    "    ax1.hist(SSB, bins = 12, color='navy');\n",
    "    ax1.axvline(np.mean(SSB),color='rosybrown',lw = 4, label = \"Mean of Dist Between = \" +str(np.round(np.mean(SSB), decimals = 3)));\n",
    "    ax1.set_title(\"Sampling distribution SSB\")\n",
    "    ax1.set_xlim([0, np.mean(SSB)*5])\n",
    "    ax1.legend()\n",
    "\n",
    "    ax2.hist(SSW, bins = 12, color='slategray');\n",
    "    ax2.axvline(np.mean(SSW),color='rosybrown',lw = 4, label = \"Mean of Dist Within= \" +str(np.round(np.mean(SSW),decimals = 3)));\n",
    "    ax2.set_title(\"Sampling distribution SSW\")\n",
    "    ax2.set_title(\"Sampling distribution SSW\")\n",
    "    ax2.legend()\n",
    "    \n",
    "    ax3.hist(F, bins = 12, color='purple');\n",
    "    ax3.set_title(\"Sampling distribution F\")\n",
    "\n",
    "style = {'description_width': 'initial'}    \n",
    "int_widget = interactive(SamplingDist,meanA=widgets.FloatSlider(value=70,min=1,max=100,step=0.1, description = \"Mean Group 1\",readout_format='.1f',style = style),\n",
    "                            meanB=widgets.FloatSlider(value=70,min=1,max=100,step=0.1, description = \"Mean Group 2\",readout_format='.1f',style = style),\n",
    "                            STD=widgets.FloatSlider(value=1,min=0.1,max=100,step=0.1, description = \"Standard Deviation of Each Sample\",readout_format='.1f',style = style),\n",
    "                            sampsize=widgets.IntSlider(value=10,min=1,max=200,step=1, description = \"Sample Size\",readout_format='d',style = style))\n",
    "\n",
    "int_widget.children[0].layout = Layout(width='600px')\n",
    "int_widget.children[1].layout = Layout(width='600px')\n",
    "int_widget.children[2].layout = Layout(width='600px')\n",
    "int_widget.children[3].layout = Layout(width='600px')\n",
    "\n",
    "int_widget.children[0].style.handle_color = 'silver'\n",
    "int_widget.children[1].style.handle_color = 'silver'\n",
    "int_widget.children[2].style.handle_color = 'steelblue'\n",
    "int_widget.children[3].style.handle_color = 'peachpuff' \n",
    "\n",
    "display(int_widget)\n",
    "\n",
    "   \n",
    "        \n",
    "        \n",
    " "
   ]
  },
  {
   "cell_type": "code",
   "execution_count": null,
   "id": "c6e8fc9f-3a51-4dfd-839f-6e58f674f14a",
   "metadata": {},
   "outputs": [],
   "source": []
  }
 ],
 "metadata": {
  "kernelspec": {
   "display_name": "Python 3 (ipykernel)",
   "language": "python",
   "name": "python3"
  },
  "language_info": {
   "codemirror_mode": {
    "name": "ipython",
    "version": 3
   },
   "file_extension": ".py",
   "mimetype": "text/x-python",
   "name": "python",
   "nbconvert_exporter": "python",
   "pygments_lexer": "ipython3",
   "version": "3.7.12"
  }
 },
 "nbformat": 4,
 "nbformat_minor": 5
}
