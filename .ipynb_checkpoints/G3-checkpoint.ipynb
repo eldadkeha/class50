{
 "cells": [
  {
   "cell_type": "code",
   "execution_count": 1,
   "id": "1d656a50-8c8f-443d-b8bc-c6e3871f679e",
   "metadata": {},
   "outputs": [
    {
     "data": {
      "application/vnd.jupyter.widget-view+json": {
       "model_id": "b984bb0f847d493eb9b407a43fa8561c",
       "version_major": 2,
       "version_minor": 0
      },
      "text/plain": [
       "interactive(children=(FloatSlider(value=70.0, description='Difference Between Groups', layout=Layout(width='70…"
      ]
     },
     "metadata": {},
     "output_type": "display_data"
    }
   ],
   "source": [
    "# nbi:hide_in \n",
    "import pandas as pd\n",
    "import seaborn as sns\n",
    "import numpy as np\n",
    "import matplotlib.pyplot as plt\n",
    "from ipywidgets import interact, interactive, fixed, interact_manual, Layout, interactive_output, HBox\n",
    "import ipywidgets as widgets\n",
    "import random\n",
    "from random import choices\n",
    "from scipy import stats\n",
    "from IPython.display import HTML\n",
    "from scipy.stats import norm\n",
    "import math\n",
    "\n",
    "sns.set(font=\"serif\", style = \"white\")\n",
    "\n",
    "def SamplingDist(meanA = 70,stdB=3):\n",
    "    stdA = 3\n",
    "    meanB = 78\n",
    "    meanC = 84\n",
    "    sizeA=10000\n",
    "    sizeB=10000\n",
    "    sizeC = 10000\n",
    "    distA = np.random.normal(meanA, stdB, sizeA)\n",
    "    distB = np.random.normal(meanB, stdB, sizeB)\n",
    "    distC = np.random.normal(meanC, stdB, sizeC)\n",
    "    \n",
    "    plt.figure(figsize=(12,7))\n",
    "    plt.yticks(fontsize = 0, color = \"w\")\n",
    "    plt.xticks(fontsize = 0, color = \"b\")\n",
    "    sns.histplot(distA, bins=12,color=\"rosybrown\", label=\"Group A\", kde = True, stat = \"density\");\n",
    "    sns.histplot(distB, bins=12,color=\"slategray\",label=\"Group B\", kde = True, stat = \"density\");\n",
    "    sns.histplot(distC, bins=12,color=\"Navy\",label=\"Group C\", kde = True, stat = \"density\");\n",
    "    plt.xlim(50,100)\n",
    "    plt.ylim(-0.05,0.31 + stdB/20)\n",
    "    plt.hlines (y= 0.42/stdB, xmin = meanA, xmax = meanB, color='tan', linewidth = 3)\n",
    "    plt.hlines (y= 0.42/stdB, xmin = meanB, xmax = meanC, color='tan', linewidth = 3)\n",
    "    plt.vlines (x= meanA, ymin = 0.4/stdB, ymax = 0.42/stdB, color='tan', linewidth = 3)\n",
    "    plt.vlines (x= meanB, ymin = 0.4/stdB, ymax = 0.42/stdB, color='tan', linewidth = 3)\n",
    "    plt.vlines (x= meanC, ymin = 0.4/stdB, ymax = 0.42/stdB, color='tan', linewidth = 3)\n",
    "    plt.text(meanB +3,0.45/stdB,'Difference/Variance \\nBetween Distributions',horizontalalignment='right', size = 14, color = \"tan\");\n",
    "    plt.hlines (y= -0.01, xmin = np.mean(distB-3.5*stdB), xmax = np.mean(distB+3.5*stdB), color='slategray', linewidth = 5)\n",
    "    plt.hlines (y= -0.005, xmin = np.mean(distA-3.5*stdB), xmax = np.mean(distA+3.5*stdB), color='rosybrown', linewidth = 5)\n",
    "    plt.hlines (y= -0.015, xmin = np.mean(distC-3.5*stdB), xmax = np.mean(distC+3.5*stdB), color='navy', linewidth = 5)\n",
    "    plt.text((meanA+meanB)/2 +3,-0.04,'Diffence/Variance inside the groups',horizontalalignment='center', size = 14, color = \"m\");\n",
    "    plt.vlines (x= (meanA+meanB)/2, ymin = -0.02, ymax = 0, color='m', linewidth = 3)\n",
    "\n",
    "\n",
    "    plt.yticks(fontsize = 12, color = \"b\")\n",
    "\n",
    "style = {'description_width': 'initial'}    \n",
    "int_widget = interactive(SamplingDist,meanA=widgets.FloatSlider(value=70,min=55,max=90,step=0.1, description = \"Difference Between Groups\",readout_format='.1f',style = style),\n",
    "                            stdB=widgets.FloatSlider(value=3,min=1.3,max=6,step=0.1, description = \"Differences Within Groups\",readout_format='.1f',style = style))\n",
    "int_widget.children[0].layout = Layout(width='700px')\n",
    "int_widget.children[1].layout = Layout(width='700px')\n",
    "\n",
    "int_widget.children[0].style.handle_color = 'tan'\n",
    "int_widget.children[1].style.handle_color = 'darkslateblue'\n",
    "\n",
    " \n",
    "display(int_widget)\n",
    "\n",
    "\n",
    "\n"
   ]
  },
  {
   "cell_type": "code",
   "execution_count": null,
   "id": "9fb00901-38b0-4547-9489-114b2b24c237",
   "metadata": {},
   "outputs": [],
   "source": []
  }
 ],
 "metadata": {
  "kernelspec": {
   "display_name": "Python 3 (ipykernel)",
   "language": "python",
   "name": "python3"
  },
  "language_info": {
   "codemirror_mode": {
    "name": "ipython",
    "version": 3
   },
   "file_extension": ".py",
   "mimetype": "text/x-python",
   "name": "python",
   "nbconvert_exporter": "python",
   "pygments_lexer": "ipython3",
   "version": "3.9.7"
  }
 },
 "nbformat": 4,
 "nbformat_minor": 5
}
