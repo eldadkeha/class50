{
 "cells": [
  {
   "cell_type": "code",
   "execution_count": 1,
   "id": "5f58c42f-4af6-433f-95e8-1725c4ad0c79",
   "metadata": {},
   "outputs": [
    {
     "data": {
      "application/vnd.jupyter.widget-view+json": {
       "model_id": "7817bf05cd22410f95be7bddcd40e14e",
       "version_major": 2,
       "version_minor": 0
      },
      "text/plain": [
       "interactive(children=(IntSlider(value=2, description='Number Of Groups', layout=Layout(width='300px'), max=10,…"
      ]
     },
     "metadata": {},
     "output_type": "display_data"
    }
   ],
   "source": [
    "# nbi:hide_in \n",
    "import pandas as pd\n",
    "import seaborn as sns\n",
    "import numpy as np\n",
    "import matplotlib.pyplot as plt\n",
    "from ipywidgets import interact, interactive, fixed, interact_manual, Layout, interactive_output, HBox\n",
    "import ipywidgets as widgets\n",
    "import random\n",
    "from random import choices\n",
    "from scipy import stats\n",
    "from IPython.display import HTML\n",
    "from scipy.stats import norm\n",
    "import math\n",
    "resolution = 1000\n",
    "\n",
    "def f_test(df1, df2):\n",
    "  df1 = int(df1) # k-1\n",
    "  df2 = int(df2) # N-k\n",
    "  x = np.linspace(0, 6, resolution)\n",
    "  y = stats.f.pdf(x, df1, df2)\n",
    "  plt.plot(x, y, c=\"navy\")\n",
    "  plt.xlim((0, 6))\n",
    "  plt.ylim((0, plt.ylim()[1]))\n",
    "  plt.title(\"F-distribution\")\n",
    "\n",
    "style = {'description_width': 'initial'}    \n",
    "int_widget = interactive(f_test,df1=widgets.IntSlider(value=2,min=2,max=10,step=1, description = \"Number Of Groups\",readout_format='d',style = style),\n",
    "                            df2=widgets.IntSlider(value=6,min=6,max=100,step=1, description = \"Number of Observations\",readout_format='d',style = style))\n",
    "int_widget.children[0].layout = Layout(width='300px')\n",
    "int_widget.children[1].layout = Layout(width='300px')\n",
    "\n",
    "int_widget.children[0].style.handle_color = 'navy'\n",
    "int_widget.children[1].style.handle_color = 'navy'\n",
    "\n",
    "\n",
    "\n",
    "display(int_widget)\n"
   ]
  },
  {
   "cell_type": "code",
   "execution_count": null,
   "id": "be1aa3ce-a32c-473e-8bc6-11c059f3ca37",
   "metadata": {},
   "outputs": [],
   "source": []
  }
 ],
 "metadata": {
  "kernelspec": {
   "display_name": "Python 3 (ipykernel)",
   "language": "python",
   "name": "python3"
  },
  "language_info": {
   "codemirror_mode": {
    "name": "ipython",
    "version": 3
   },
   "file_extension": ".py",
   "mimetype": "text/x-python",
   "name": "python",
   "nbconvert_exporter": "python",
   "pygments_lexer": "ipython3",
   "version": "3.9.7"
  }
 },
 "nbformat": 4,
 "nbformat_minor": 5
}
