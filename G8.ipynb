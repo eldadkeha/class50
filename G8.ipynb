{
 "cells": [
  {
   "cell_type": "code",
   "execution_count": 5,
   "id": "2ea1751f-0cee-4436-b47f-d27ad63ed9cf",
   "metadata": {},
   "outputs": [
    {
     "data": {
      "text/html": [
       "<style>[data-mime-type=\"application/vnd.jupyter.stdout\"] pre { color:navy; font-size:36px}</style>"
      ],
      "text/plain": [
       "<IPython.core.display.HTML object>"
      ]
     },
     "metadata": {},
     "output_type": "display_data"
    },
    {
     "data": {
      "application/vnd.jupyter.widget-view+json": {
       "model_id": "462fb3494ebb4680882b8fd14f3417e8",
       "version_major": 2,
       "version_minor": 0
      },
      "text/plain": [
       "interactive(children=(IntSlider(value=10, description='SSparticipants', layout=Layout(width='450px'), max=50, …"
      ]
     },
     "metadata": {},
     "output_type": "display_data"
    }
   ],
   "source": [
    "# nbi:hide_in \n",
    "import pandas as pd\n",
    "import seaborn as sns\n",
    "import numpy as np\n",
    "import matplotlib.pyplot as plt\n",
    "from ipywidgets import interact, interactive, fixed, interact_manual, Layout, interactive_output, HBox, VBox\n",
    "import ipywidgets as widgets\n",
    "import random\n",
    "from random import choices\n",
    "from scipy import stats\n",
    "import scipy.stats\n",
    "from IPython.display import HTML\n",
    "from scipy.stats import norm\n",
    "import math\n",
    "\n",
    "def Variance(SSA = 10, SSB = 10):\n",
    "    groupsize=1000\n",
    "    groupA = np.random.normal(600,SSA,groupsize)\n",
    "    groupB = groupA -20- np.random.normal(SSB,SSA-10,len(groupA)) #the expected value of diffrence is 6\n",
    "    groupC = groupB -20- np.random.normal(SSB,SSA-10,len(groupA)) #the expected value of diffrence is 6\n",
    "    plt.figure(figsize=(12,6))\n",
    "    meanA = np.mean(groupA)\n",
    "    meanB = np.mean(groupB)\n",
    "    meanC = np.mean(groupC)\n",
    "    means = [meanA,meanB,meanC]\n",
    "    mean = np.mean(means)\n",
    "    SSB = (meanA - mean)**2*(groupsize) + (meanB - mean)**2*(groupsize) + (meanC - mean)**2*(groupsize)\n",
    "    SSW = np.var(groupA)*groupsize + np.var(groupB)*groupsize + np.var(groupC)*groupsize\n",
    "    \n",
    "    print(\"SSB = \" +str(np.round(SSB, decimals = 0)),\"   SSW = \" +str(np.round(SSW, decimals = 0)))\n",
    "\n",
    "    for i in range(len(groupA)):\n",
    "        plt.plot([0,1],[groupA[i],groupB[i]],color=\"grey\",linestyle='--', linewidth = 1)\n",
    "    for i in range(len(groupA)):\n",
    "        plt.plot([1,2],[groupB[i],groupC[i]],color=\"grey\",linestyle='--', linewidth = 1)\n",
    "\n",
    "    plt.scatter(np.repeat(\"Incongruent\",len(groupA)), groupA,color = \"silver\", s = 200, label = \"Mean Incongruent = \" + str(np.round(meanA, decimals = 0)))\n",
    "    plt.scatter(np.repeat(\"Neutral\",len(groupB)), groupB,color = \"tan\", s = 200, label = \"Mean Neutral = \" + str(np.round(meanB, decimals = 0)))\n",
    "    plt.scatter(np.repeat(\"Congruent\",len(groupC)), groupC,color = \"teal\", s = 200, label = \"Mean Congruent = \" + str(np.round(meanC, decimals = 0)))\n",
    "    plt.yticks(fontsize = 18, color = \"black\")\n",
    "    plt.ylim(200,900)\n",
    "    plt.xticks(fontsize = 22, color = \"black\")\n",
    "    plt.title(\"Stroop Effect per Participant\", fontsize = 36);\n",
    "    plt.legend(fontsize = 18, loc = 3)\n",
    "\n",
    "style = {'description_width': 'initial'}    \n",
    "int_widget = interactive(Variance,SSA=widgets.IntSlider(value=10,min=0,max=50,step=1, description = \"SSparticipants\",readout_format='.1f',style = style),\n",
    "                            SSB=widgets.IntSlider(value=10,min=0,max=100,step=1, description = \"SSeffect\",readout_format='.1f',style = style))   \n",
    "\n",
    "int_widget.children[0].layout = Layout(width='450px')\n",
    "int_widget.children[1].layout = Layout(width='450px')\n",
    "\n",
    "int_widget.children[0].style.handle_color = 'silver'\n",
    "int_widget.children[1].style.handle_color = 'silver'\n",
    "\n",
    "display(HTML('''<style>[data-mime-type=\"application/vnd.jupyter.stdout\"] pre { color:navy; font-size:36px}</style>'''))\n",
    "\n",
    "display(int_widget)"
   ]
  },
  {
   "cell_type": "code",
   "execution_count": null,
   "id": "b75fbb02-8821-4e94-8a29-2f8a79829f79",
   "metadata": {},
   "outputs": [],
   "source": []
  }
 ],
 "metadata": {
  "kernelspec": {
   "display_name": "Python 3 (ipykernel)",
   "language": "python",
   "name": "python3"
  },
  "language_info": {
   "codemirror_mode": {
    "name": "ipython",
    "version": 3
   },
   "file_extension": ".py",
   "mimetype": "text/x-python",
   "name": "python",
   "nbconvert_exporter": "python",
   "pygments_lexer": "ipython3",
   "version": "3.7.12"
  }
 },
 "nbformat": 4,
 "nbformat_minor": 5
}
