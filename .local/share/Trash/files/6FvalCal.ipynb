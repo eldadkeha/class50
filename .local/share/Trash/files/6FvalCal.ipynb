{
 "cells": [
  {
   "cell_type": "code",
   "execution_count": 15,
   "metadata": {
    "cellView": "form",
    "id": "UhZGrKOFdrhj"
   },
   "outputs": [
    {
     "data": {
      "application/vnd.jupyter.widget-view+json": {
       "model_id": "511423eb73ff474687c6a664ceb04b20",
       "version_major": 2,
       "version_minor": 0
      },
      "text/plain": [
       "interactive(children=(Text(value='2', description='df1'), Text(value='30', description='df2'), Text(value='1',…"
      ]
     },
     "metadata": {},
     "output_type": "display_data"
    }
   ],
   "source": [
    "# nbi:hide_in \n",
    "import pandas as pd\n",
    "import seaborn as sns\n",
    "import numpy as np\n",
    "import matplotlib.pyplot as plt\n",
    "from ipywidgets import interact, interactive, fixed, interact_manual, Layout, interactive_output, HBox\n",
    "import ipywidgets as widgets\n",
    "import random\n",
    "from random import choices\n",
    "from scipy import stats\n",
    "from IPython.display import HTML\n",
    "from scipy.stats import norm\n",
    "import math\n",
    "import warnings\n",
    "warnings.filterwarnings(\"ignore\")\n",
    "\n",
    "resolution = 1000\n",
    "\n",
    "def f_test(df1, df2, F_score):\n",
    "  df1 = int(df1) # k-1\n",
    "  df2 = int(df2) # N-k\n",
    "  F_score = float(F_score)  # MSB/MSW\n",
    "  pval = stats.f.sf(F_score, df1, df2)\n",
    "  print(f\"F({df1},{df2})\\t= {F_score}\\np-value\\t= {round(pval,5)}\")\n",
    "  bound = max(6, F_score+1.5)\n",
    "\n",
    "inter = interact_manual(f_test, df1=\"2\", df2=\"30\", F_score=\"1\")\n",
    "inter.widget.children[3].description=\"Calculate P-Value\";\n",
    "inter.widget.children[3].style.button_color=\"lightgray\";\n",
    "inter.widget.children[3].style.font_weight = \"bold\" ;\n",
    "\n",
    "display(HTML('''<style>[data-mime-type=\"application/vnd.jupyter.stdout\"] pre { color:black; font-size:24px}</style>'''))\n",
    "\n"
   ]
  }
 ],
 "metadata": {
  "colab": {
   "collapsed_sections": [],
   "name": "StatMethodsPsy21_p_value_calculator.ipynb",
   "provenance": []
  },
  "kernelspec": {
   "display_name": "Python 3 (ipykernel)",
   "language": "python",
   "name": "python3"
  },
  "language_info": {
   "codemirror_mode": {
    "name": "ipython",
    "version": 3
   },
   "file_extension": ".py",
   "mimetype": "text/x-python",
   "name": "python",
   "nbconvert_exporter": "python",
   "pygments_lexer": "ipython3",
   "version": "3.9.7"
  }
 },
 "nbformat": 4,
 "nbformat_minor": 4
}
